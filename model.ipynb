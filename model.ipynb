{
 "cells": [
  {
   "cell_type": "code",
   "execution_count": 4,
   "id": "cb9e86a5",
   "metadata": {},
   "outputs": [
    {
     "ename": "ModuleNotFoundError",
     "evalue": "No module named 'pandas'",
     "output_type": "error",
     "traceback": [
      "\u001b[1;31m---------------------------------------------------------------------------\u001b[0m",
      "\u001b[1;31mModuleNotFoundError\u001b[0m                       Traceback (most recent call last)",
      "Cell \u001b[1;32mIn[4], line 1\u001b[0m\n\u001b[1;32m----> 1\u001b[0m \u001b[38;5;28;01mimport\u001b[39;00m\u001b[38;5;250m \u001b[39m\u001b[38;5;21;01mpandas\u001b[39;00m\u001b[38;5;250m \u001b[39m\u001b[38;5;28;01mas\u001b[39;00m\u001b[38;5;250m \u001b[39m\u001b[38;5;21;01mpd\u001b[39;00m\n",
      "\u001b[1;31mModuleNotFoundError\u001b[0m: No module named 'pandas'"
     ]
    }
   ],
   "source": [
    "import pandas as pd"
   ]
  },
  {
   "cell_type": "code",
   "execution_count": 5,
   "id": "f040bb5c",
   "metadata": {},
   "outputs": [
    {
     "name": "stdout",
     "output_type": "stream",
     "text": [
      "Requirement already satisfied: pip in c:\\program files\\windowsapps\\pythonsoftwarefoundation.python.3.10_3.10.3056.0_x64__qbz5n2kfra8p0\\lib\\site-packages (23.0.1)\n",
      "Collecting pip\n",
      "  Downloading pip-25.0.1-py3-none-any.whl (1.8 MB)\n",
      "     ---------------------------------------- 0.0/1.8 MB ? eta -:--:--\n",
      "      --------------------------------------- 0.0/1.8 MB 960.0 kB/s eta 0:00:02\n",
      "     - -------------------------------------- 0.1/1.8 MB 777.7 kB/s eta 0:00:03\n",
      "     --- ------------------------------------ 0.1/1.8 MB 1.1 MB/s eta 0:00:02\n",
      "     --- ------------------------------------ 0.2/1.8 MB 913.1 kB/s eta 0:00:02\n",
      "     ---- ----------------------------------- 0.2/1.8 MB 903.5 kB/s eta 0:00:02\n",
      "     ---- ----------------------------------- 0.2/1.8 MB 903.5 kB/s eta 0:00:02\n",
      "     ---- ----------------------------------- 0.2/1.8 MB 903.5 kB/s eta 0:00:02\n",
      "     ----- ---------------------------------- 0.2/1.8 MB 625.8 kB/s eta 0:00:03\n",
      "     ------ --------------------------------- 0.3/1.8 MB 710.0 kB/s eta 0:00:03\n",
      "     ------ --------------------------------- 0.3/1.8 MB 654.1 kB/s eta 0:00:03\n",
      "     ------ --------------------------------- 0.3/1.8 MB 633.4 kB/s eta 0:00:03\n",
      "     -------- ------------------------------- 0.4/1.8 MB 712.2 kB/s eta 0:00:03\n",
      "     --------- ------------------------------ 0.5/1.8 MB 782.1 kB/s eta 0:00:02\n",
      "     ------------ --------------------------- 0.6/1.8 MB 868.4 kB/s eta 0:00:02\n",
      "     ------------ --------------------------- 0.6/1.8 MB 853.3 kB/s eta 0:00:02\n",
      "     -------------- ------------------------- 0.7/1.8 MB 940.0 kB/s eta 0:00:02\n",
      "     ----------------- ---------------------- 0.8/1.8 MB 1.0 MB/s eta 0:00:02\n",
      "     ------------------ --------------------- 0.9/1.8 MB 1.1 MB/s eta 0:00:01\n",
      "     -------------------- ------------------- 1.0/1.8 MB 1.1 MB/s eta 0:00:01\n",
      "     --------------------- ------------------ 1.0/1.8 MB 1.1 MB/s eta 0:00:01\n",
      "     ------------------------ --------------- 1.1/1.8 MB 1.2 MB/s eta 0:00:01\n",
      "     ------------------------ --------------- 1.1/1.8 MB 1.2 MB/s eta 0:00:01\n",
      "     --------------------------- ------------ 1.3/1.8 MB 1.2 MB/s eta 0:00:01\n",
      "     ---------------------------- ----------- 1.3/1.8 MB 1.2 MB/s eta 0:00:01\n",
      "     ----------------------------- ---------- 1.4/1.8 MB 1.2 MB/s eta 0:00:01\n",
      "     ------------------------------- -------- 1.5/1.8 MB 1.2 MB/s eta 0:00:01\n",
      "     --------------------------------- ------ 1.6/1.8 MB 1.3 MB/s eta 0:00:01\n",
      "     ----------------------------------- ---- 1.6/1.8 MB 1.3 MB/s eta 0:00:01\n",
      "     ---------------------------------------- 1.8/1.8 MB 1.3 MB/s eta 0:00:00\n",
      "Installing collected packages: pip\n",
      "Successfully installed pip-25.0.1\n",
      "Note: you may need to restart the kernel to use updated packages.\n"
     ]
    },
    {
     "name": "stderr",
     "output_type": "stream",
     "text": [
      "\n",
      "[notice] A new release of pip is available: 23.0.1 -> 25.0.1\n",
      "[notice] To update, run: C:\\Users\\tejag\\AppData\\Local\\Microsoft\\WindowsApps\\PythonSoftwareFoundation.Python.3.10_qbz5n2kfra8p0\\python.exe -m pip install --upgrade pip\n"
     ]
    }
   ],
   "source": [
    "pip install --upgrade pip\n"
   ]
  },
  {
   "cell_type": "code",
   "execution_count": 7,
   "id": "34f54fc8",
   "metadata": {},
   "outputs": [
    {
     "name": "stdout",
     "output_type": "stream",
     "text": [
      "Collecting pandasNote: you may need to restart the kernel to use updated packages.\n",
      "\n",
      "  Downloading pandas-2.2.3-cp310-cp310-win_amd64.whl.metadata (19 kB)\n",
      "Collecting numpy>=1.22.4 (from pandas)\n",
      "  Downloading numpy-2.2.4-cp310-cp310-win_amd64.whl.metadata (60 kB)\n",
      "Requirement already satisfied: python-dateutil>=2.8.2 in c:\\users\\tejag\\appdata\\local\\packages\\pythonsoftwarefoundation.python.3.10_qbz5n2kfra8p0\\localcache\\local-packages\\python310\\site-packages (from pandas) (2.9.0.post0)\n",
      "Collecting pytz>=2020.1 (from pandas)\n",
      "  Downloading pytz-2025.2-py2.py3-none-any.whl.metadata (22 kB)\n",
      "Collecting tzdata>=2022.7 (from pandas)\n",
      "  Downloading tzdata-2025.2-py2.py3-none-any.whl.metadata (1.4 kB)\n",
      "Requirement already satisfied: six>=1.5 in c:\\users\\tejag\\appdata\\local\\packages\\pythonsoftwarefoundation.python.3.10_qbz5n2kfra8p0\\localcache\\local-packages\\python310\\site-packages (from python-dateutil>=2.8.2->pandas) (1.17.0)\n",
      "Downloading pandas-2.2.3-cp310-cp310-win_amd64.whl (11.6 MB)\n",
      "   ---------------------------------------- 0.0/11.6 MB ? eta -:--:--\n",
      "   ---------------------------------------- 0.0/11.6 MB ? eta -:--:--\n",
      "    --------------------------------------- 0.3/11.6 MB ? eta -:--:--\n",
      "   - -------------------------------------- 0.5/11.6 MB 1.2 MB/s eta 0:00:10\n",
      "   -- ------------------------------------- 0.8/11.6 MB 1.1 MB/s eta 0:00:11\n",
      "   --- ------------------------------------ 1.0/11.6 MB 1.1 MB/s eta 0:00:10\n",
      "   ---- ----------------------------------- 1.3/11.6 MB 1.2 MB/s eta 0:00:09\n",
      "   ------ --------------------------------- 1.8/11.6 MB 1.3 MB/s eta 0:00:08\n",
      "   -------- ------------------------------- 2.4/11.6 MB 1.5 MB/s eta 0:00:07\n",
      "   --------- ------------------------------ 2.6/11.6 MB 1.5 MB/s eta 0:00:06\n",
      "   ----------- ---------------------------- 3.4/11.6 MB 1.7 MB/s eta 0:00:05\n",
      "   ------------- -------------------------- 3.9/11.6 MB 1.8 MB/s eta 0:00:05\n",
      "   --------------- ------------------------ 4.5/11.6 MB 1.9 MB/s eta 0:00:04\n",
      "   ------------------ --------------------- 5.2/11.6 MB 2.0 MB/s eta 0:00:04\n",
      "   --------------------- ------------------ 6.3/11.6 MB 2.3 MB/s eta 0:00:03\n",
      "   ------------------------ --------------- 7.1/11.6 MB 2.4 MB/s eta 0:00:02\n",
      "   ---------------------------- ----------- 8.4/11.6 MB 2.6 MB/s eta 0:00:02\n",
      "   -------------------------------- ------- 9.4/11.6 MB 2.7 MB/s eta 0:00:01\n",
      "   ----------------------------------- ---- 10.2/11.6 MB 2.8 MB/s eta 0:00:01\n",
      "   ---------------------------------------  11.5/11.6 MB 3.0 MB/s eta 0:00:01\n",
      "   ---------------------------------------- 11.6/11.6 MB 2.9 MB/s eta 0:00:00\n",
      "Downloading numpy-2.2.4-cp310-cp310-win_amd64.whl (12.9 MB)\n",
      "   ---------------------------------------- 0.0/12.9 MB ? eta -:--:--\n",
      "   --- ------------------------------------ 1.0/12.9 MB 5.0 MB/s eta 0:00:03\n",
      "   ------ --------------------------------- 2.1/12.9 MB 5.6 MB/s eta 0:00:02\n",
      "   ----------- ---------------------------- 3.7/12.9 MB 5.9 MB/s eta 0:00:02\n",
      "   -------------- ------------------------- 4.7/12.9 MB 5.7 MB/s eta 0:00:02\n",
      "   ----------------- ---------------------- 5.8/12.9 MB 5.8 MB/s eta 0:00:02\n",
      "   --------------------- ------------------ 7.1/12.9 MB 5.8 MB/s eta 0:00:02\n",
      "   ------------------------- -------------- 8.1/12.9 MB 5.8 MB/s eta 0:00:01\n",
      "   ---------------------------- ----------- 9.2/12.9 MB 5.4 MB/s eta 0:00:01\n",
      "   ----------------------------- ---------- 9.4/12.9 MB 5.3 MB/s eta 0:00:01\n",
      "   --------------------------------- ------ 10.7/12.9 MB 5.1 MB/s eta 0:00:01\n",
      "   ------------------------------------ --- 11.8/12.9 MB 5.1 MB/s eta 0:00:01\n",
      "   -------------------------------------- - 12.6/12.9 MB 5.0 MB/s eta 0:00:01\n",
      "   ---------------------------------------- 12.9/12.9 MB 4.9 MB/s eta 0:00:00\n",
      "Downloading pytz-2025.2-py2.py3-none-any.whl (509 kB)\n",
      "Downloading tzdata-2025.2-py2.py3-none-any.whl (347 kB)\n",
      "Installing collected packages: pytz, tzdata, numpy, pandas\n",
      "Successfully installed numpy-2.2.4 pandas-2.2.3 pytz-2025.2 tzdata-2025.2\n",
      "Requirement already satisfied: numpy in c:\\users\\tejag\\appdata\\local\\packages\\pythonsoftwarefoundation.python.3.10_qbz5n2kfra8p0\\localcache\\local-packages\\python310\\site-packages (2.2.4)\n",
      "Note: you may need to restart the kernel to use updated packages.\n"
     ]
    }
   ],
   "source": [
    "%pip install --upgrade pandas\n",
    "%pip install --upgrade numpy"
   ]
  },
  {
   "cell_type": "code",
   "execution_count": null,
   "id": "a825c202",
   "metadata": {},
   "outputs": [],
   "source": []
  }
 ],
 "metadata": {
  "kernelspec": {
   "display_name": "Python 3",
   "language": "python",
   "name": "python3"
  },
  "language_info": {
   "codemirror_mode": {
    "name": "ipython",
    "version": 3
   },
   "file_extension": ".py",
   "mimetype": "text/x-python",
   "name": "python",
   "nbconvert_exporter": "python",
   "pygments_lexer": "ipython3",
   "version": "3.10.11"
  }
 },
 "nbformat": 4,
 "nbformat_minor": 5
}
